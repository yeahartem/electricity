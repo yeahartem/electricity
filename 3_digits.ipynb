{
 "cells": [
  {
   "cell_type": "markdown",
   "metadata": {},
   "source": [
    "к 17-30 нужны бы следующие цифры (и апдейт гита, что бы я мог запуститься)\n",
    "\n",
    "(1) график — отлично, только плиз отложите минимум MAE (что бы он был монотонно убывающим — то есть не f(x), а min f(y) such that y\\le x ) — картинка 1\n",
    "\n",
    "(2) исключите все цены выше 200 USD и давайте сделаем тот же расчет MAE — картинка 2\n",
    "\n",
    "(3) цифра получается продавать энергию в течении часа (по 1 MW каждые 5 минут, цены даны за MW) на завтра (условное завтра, усредните по месяцу или нескольким)\n",
    "\n",
    "- если мы знаем реальные цены завтрашнего дня (выбираем 12 самых дорогих интервалов)\n",
    "\n",
    "- если мы предсказываем реальные цены завтрашнего дня (выбираем 12 самых дорогих интервалов по нашему прогнозу)\n",
    "\n",
    "если мы продаем в течении часа (= двенадцать 5-и минутных интервалов подряд), в который DAM прогнозирует самое дорогое электричество\n",
    "\n",
    "Можете просто подсчитать на вчерашний день например или средние величины за июль/август."
   ]
  },
  {
   "cell_type": "markdown",
   "metadata": {},
   "source": [
    "2 — аналогично, мне тоже будет нужен min — монотонная функция"
   ]
  },
  {
   "cell_type": "markdown",
   "metadata": {},
   "source": [
    "3:\n",
    "Допустим сегодня 1 августа и мы смотрим на заработок за 2-ое августа. Фиксируем X = {12, 24, 36, 48, 60} и дальше будем искать Цифры 1, 2 и 3 для каждого X\n",
    "\n",
    "Цифра 1: берем Real time market (RTM) цены за 2 августа — и смотрим на сумму X интервалов в которых были max цены. Это и есть цифра 1 в зависимости от X\n",
    "\n",
    "Цифра 2: берем наш прогноз на 2 августа и выделяем X интервалов в которых наша модель сказала, что цены будут наибольшие. НО Дальше берем Real time market (RTM) цены за 2 августа (именно их)  за Х выделенных нашей моделью интервалов и смотрим какой будет сумма цен. Это и есть цифра 2 в зависимости от Х\n",
    "\n",
    "Цифра 3: берем day ahead market (файл DAM) на 2 августа и смотрим в какой час DAM указал на максимальную цену — берем сумму цен 12 пятиминутных интервалов на RTM маркете в этот час. Аналогично для 2 часов, 3 часов, 4 часов и 5 часов. Это и есть цифра 3 в зависимости от Х (точнее X/12)"
   ]
  },
  {
   "cell_type": "markdown",
   "metadata": {},
   "source": [
    "### Intro"
   ]
  },
  {
   "cell_type": "code",
   "execution_count": 1,
   "metadata": {},
   "outputs": [],
   "source": [
    "import pandas as pd\n",
    "import numpy as np\n",
    "from sklearn.preprocessing import LabelEncoder\n",
    "from sklearn.metrics import mean_absolute_error\n",
    "import warnings\n",
    "warnings.filterwarnings(\"ignore\")\n",
    "import xgboost as xgb\n",
    "from sklearn.ensemble import RandomForestRegressor\n",
    "from sklearn.tree import DecisionTreeRegressor\n",
    "from datetime import timedelta, datetime\n",
    "import matplotlib.pyplot as plt\n",
    "from sklearn.metrics import confusion_matrix, ConfusionMatrixDisplay"
   ]
  },
  {
   "cell_type": "code",
   "execution_count": 2,
   "metadata": {},
   "outputs": [],
   "source": [
    "df = pd.read_csv('20220715_20220729_PRC_INTVL_LMP_RTM_20220731_05_17_54_v3.csv')\n",
    "hol = pd.read_csv('HOLLISTR_1_N101.csv')\n",
    "dam = pd.read_csv('HOLLISTR_1_N101_DAM.csv')"
   ]
  },
  {
   "cell_type": "code",
   "execution_count": 3,
   "metadata": {},
   "outputs": [],
   "source": [
    "trash = ['NODE_ID_XML', 'NODE_ID', 'NODE', 'MARKET_RUN_ID', 'XML_DATA_ITEM', 'PNODE_RESMRID', 'GRP_TYPE', 'POS']\n",
    "tr = ['INTERVALSTARTTIME_GMT', 'INTERVALENDTIME_GMT', 'GROUP']\n",
    "hol.drop(trash, axis=1, inplace=True)\n",
    "dam.drop(trash, axis=1, inplace=True)\n",
    "dam.drop(dam[dam.LMP_TYPE == 'MGHG'].index, axis=0, inplace=True)\n",
    "\n",
    "hol.drop(tr, axis=1, inplace=True)\n",
    "dam.drop(tr + ['OPR_INTERVAL'], axis=1, inplace=True)\n",
    "hol['OPR_DT'] =  pd.to_datetime(hol['OPR_DT'], format='%Y-%m-%d')\n",
    "dam['OPR_DT'] =  pd.to_datetime(dam['OPR_DT'], format='%Y-%m-%d')"
   ]
  },
  {
   "cell_type": "code",
   "execution_count": 4,
   "metadata": {},
   "outputs": [
    {
     "name": "stdout",
     "output_type": "stream",
     "text": [
      "Number of outliers > 200$ is\n",
      " 1122\n"
     ]
    },
    {
     "data": {
      "image/png": "[encoded data removed]",
      "text/plain": [
       "<Figure size 720x432 with 1 Axes>"
      ]
     },
     "metadata": {
      "needs_background": "light"
     },
     "output_type": "display_data"
    }
   ],
   "source": [
    "print('Number of outliers > 200$ is\\n', (hol.MW > 200).sum())\n",
    "plt.figure(figsize=(10, 6))\n",
    "plt.plot(hol.MW);"
   ]
  },
  {
   "cell_type": "code",
   "execution_count": 5,
   "metadata": {},
   "outputs": [],
   "source": [
    "le = LabelEncoder()\n",
    "le.fit(['MCC', 'MCE', 'MCL', 'LMP']) \n",
    "\n",
    "hol['lmp_trans'] = le.transform(hol.LMP_TYPE)\n",
    "hol.drop('LMP_TYPE', axis=1, inplace=True)\n",
    "hol.rename(columns = {'lmp_trans':'LMP_TYPE'}, inplace=True)\n",
    "\n",
    "dam['lmp_trans'] = le.transform(dam.LMP_TYPE)\n",
    "dam.drop('LMP_TYPE', axis=1, inplace=True)\n",
    "dam.rename(columns = {'lmp_trans':'LMP_TYPE'}, inplace=True)"
   ]
  },
  {
   "cell_type": "code",
   "execution_count": 282,
   "metadata": {},
   "outputs": [
    {
     "data": {
      "text/html": [
       "<div>\n",
       "<style scoped>\n",
       "    .dataframe tbody tr th:only-of-type {\n",
       "        vertical-align: middle;\n",
       "    }\n",
       "\n",
       "    .dataframe tbody tr th {\n",
       "        vertical-align: top;\n",
       "    }\n",
       "\n",
       "    .dataframe thead th {\n",
       "        text-align: right;\n",
       "    }\n",
       "</style>\n",
       "<table border=\"1\" class=\"dataframe\">\n",
       "  <thead>\n",
       "    <tr style=\"text-align: right;\">\n",
       "      <th></th>\n",
       "      <th>OPR_DT</th>\n",
       "      <th>OPR_HR</th>\n",
       "      <th>MW</th>\n",
       "      <th>OPR_INTERVAL</th>\n",
       "      <th>LMP_TYPE</th>\n",
       "      <th>dam</th>\n",
       "    </tr>\n",
       "  </thead>\n",
       "  <tbody>\n",
       "    <tr>\n",
       "      <th>5856</th>\n",
       "      <td>2022-02-05</td>\n",
       "      <td>1</td>\n",
       "      <td>48.43562</td>\n",
       "      <td>1</td>\n",
       "      <td>0</td>\n",
       "      <td>51.04866</td>\n",
       "    </tr>\n",
       "    <tr>\n",
       "      <th>5857</th>\n",
       "      <td>2022-02-05</td>\n",
       "      <td>1</td>\n",
       "      <td>49.02668</td>\n",
       "      <td>2</td>\n",
       "      <td>0</td>\n",
       "      <td>51.04866</td>\n",
       "    </tr>\n",
       "    <tr>\n",
       "      <th>5858</th>\n",
       "      <td>2022-02-05</td>\n",
       "      <td>1</td>\n",
       "      <td>49.00395</td>\n",
       "      <td>3</td>\n",
       "      <td>0</td>\n",
       "      <td>51.04866</td>\n",
       "    </tr>\n",
       "    <tr>\n",
       "      <th>5859</th>\n",
       "      <td>2022-02-05</td>\n",
       "      <td>1</td>\n",
       "      <td>48.91760</td>\n",
       "      <td>4</td>\n",
       "      <td>0</td>\n",
       "      <td>51.04866</td>\n",
       "    </tr>\n",
       "    <tr>\n",
       "      <th>5860</th>\n",
       "      <td>2022-02-05</td>\n",
       "      <td>1</td>\n",
       "      <td>48.91760</td>\n",
       "      <td>5</td>\n",
       "      <td>0</td>\n",
       "      <td>51.04866</td>\n",
       "    </tr>\n",
       "    <tr>\n",
       "      <th>...</th>\n",
       "      <td>...</td>\n",
       "      <td>...</td>\n",
       "      <td>...</td>\n",
       "      <td>...</td>\n",
       "      <td>...</td>\n",
       "      <td>...</td>\n",
       "    </tr>\n",
       "    <tr>\n",
       "      <th>6139</th>\n",
       "      <td>2022-02-05</td>\n",
       "      <td>24</td>\n",
       "      <td>47.99223</td>\n",
       "      <td>8</td>\n",
       "      <td>0</td>\n",
       "      <td>53.23970</td>\n",
       "    </tr>\n",
       "    <tr>\n",
       "      <th>6140</th>\n",
       "      <td>2022-02-05</td>\n",
       "      <td>24</td>\n",
       "      <td>47.88387</td>\n",
       "      <td>9</td>\n",
       "      <td>0</td>\n",
       "      <td>53.23970</td>\n",
       "    </tr>\n",
       "    <tr>\n",
       "      <th>6141</th>\n",
       "      <td>2022-02-05</td>\n",
       "      <td>24</td>\n",
       "      <td>47.31238</td>\n",
       "      <td>10</td>\n",
       "      <td>0</td>\n",
       "      <td>53.23970</td>\n",
       "    </tr>\n",
       "    <tr>\n",
       "      <th>6142</th>\n",
       "      <td>2022-02-05</td>\n",
       "      <td>24</td>\n",
       "      <td>47.31290</td>\n",
       "      <td>11</td>\n",
       "      <td>0</td>\n",
       "      <td>53.23970</td>\n",
       "    </tr>\n",
       "    <tr>\n",
       "      <th>6143</th>\n",
       "      <td>2022-02-05</td>\n",
       "      <td>24</td>\n",
       "      <td>46.73880</td>\n",
       "      <td>12</td>\n",
       "      <td>0</td>\n",
       "      <td>53.23970</td>\n",
       "    </tr>\n",
       "  </tbody>\n",
       "</table>\n",
       "<p>288 rows × 6 columns</p>\n",
       "</div>"
      ],
      "text/plain": [
       "         OPR_DT  OPR_HR        MW  OPR_INTERVAL  LMP_TYPE       dam\n",
       "5856 2022-02-05       1  48.43562             1         0  51.04866\n",
       "5857 2022-02-05       1  49.02668             2         0  51.04866\n",
       "5858 2022-02-05       1  49.00395             3         0  51.04866\n",
       "5859 2022-02-05       1  48.91760             4         0  51.04866\n",
       "5860 2022-02-05       1  48.91760             5         0  51.04866\n",
       "...         ...     ...       ...           ...       ...       ...\n",
       "6139 2022-02-05      24  47.99223             8         0  53.23970\n",
       "6140 2022-02-05      24  47.88387             9         0  53.23970\n",
       "6141 2022-02-05      24  47.31238            10         0  53.23970\n",
       "6142 2022-02-05      24  47.31290            11         0  53.23970\n",
       "6143 2022-02-05      24  46.73880            12         0  53.23970\n",
       "\n",
       "[288 rows x 6 columns]"
      ]
     },
     "execution_count": 282,
     "metadata": {},
     "output_type": "execute_result"
    }
   ],
   "source": [
    "def add_dam(lmp_type, target_date, current_day, hol, dam):\n",
    "    '''\n",
    "    Adds DAM to 5-minutes intervals.\n",
    "\n",
    "    lmp_type - [0, 1, 2, 3] after encoding,\n",
    "    target_date - '2022-02-07' prediction date,\n",
    "    current_day - day you are concatenating to,\n",
    "    hol - HOLLISTR_1_N101.csv after preprocessing,\n",
    "    dam - HOLLISTR_1_N101_DAM.csv after preprocessing\n",
    "    '''\n",
    "    exp = dam[dam['OPR_DT'] == target_date]\n",
    "    exp = exp[exp['LMP_TYPE'] == lmp_type]  #.sort_values('OPR_HR')\n",
    "    ee = exp[['OPR_HR', 'MW']]\n",
    "\n",
    "    sec = hol[hol['OPR_DT'] == current_day]\n",
    "    sec = sec[sec['LMP_TYPE'] == lmp_type]\n",
    "    lis = []\n",
    "\n",
    "    for i in sec['OPR_HR']:\n",
    "        lis.append(ee[ee['OPR_HR'] == i]['MW'].values)\n",
    "    sec['dam'] = np.hstack(lis)\n",
    "    return sec\n",
    "\n",
    "def train_test(new_df, end_date):\n",
    "    '''\n",
    "    \n",
    "    '''\n",
    "    test_df = new_df[new_df['OPR_DT'] == end_date]\n",
    "    test_df.drop(['OPR_DT'], axis=1, inplace=True)\n",
    "    y_test = test_df['MW']\n",
    "    X_test = test_df.drop('MW', axis=1)\n",
    "\n",
    "    train_df = new_df.drop(test_df.index)\n",
    "    train_df.drop(['OPR_DT'], axis=1, inplace=True)\n",
    "    y_train = train_df['MW']\n",
    "    X_train = train_df.drop('MW', axis=1)\n",
    "\n",
    "    forest = RandomForestRegressor(n_estimators=20, max_depth=10, criterion='absolute_error')\n",
    "    forest.fit(X_train, y_train)\n",
    "    y_pred = forest.predict(X_test)\n",
    "    return mean_absolute_error(y_test, y_pred)\n",
    "    \n",
    "add_dam(0, '2022-02-07', '2022-02-05', hol, dam)"
   ]
  },
  {
   "cell_type": "code",
   "execution_count": 17,
   "metadata": {},
   "outputs": [],
   "source": [
    "def add_dam_new(dates, target_date, hol, dam):\n",
    "    '''\n",
    "    Adds DAM to 5-minutes intervals.\n",
    "\n",
    "    lmp_type - [0, 1, 2, 3] after encoding,\n",
    "    target_date - '2022-02-07' prediction date,\n",
    "    current_day - day you are concatenating to,\n",
    "    hol - HOLLISTR_1_N101.csv after preprocessing,\n",
    "    dam - HOLLISTR_1_N101_DAM.csv after preprocessing\n",
    "    '''\n",
    "    pdList = []\n",
    "    for n in dates:\n",
    "        for lmp in [0, 1, 2, 3]:\n",
    "            exp = dam[dam['OPR_DT'] == target_date]\n",
    "            exp = exp[exp['LMP_TYPE'] == lmp]  #.sort_values('OPR_HR')\n",
    "            ee = exp[['OPR_HR', 'MW']]\n",
    "\n",
    "            sec = hol[hol['OPR_DT'] == n]\n",
    "            sec = sec[sec['LMP_TYPE'] == lmp]\n",
    "            lis = []\n",
    "\n",
    "            for i in sec['OPR_HR']:\n",
    "                lis.append(ee[ee['OPR_HR'] == i]['MW'].values)\n",
    "            sec['dam'] = np.hstack(lis)\n",
    "            pdList.append(sec)\n",
    "\n",
    "    return pd.concat(pdList)"
   ]
  },
  {
   "cell_type": "markdown",
   "metadata": {},
   "source": [
    "### 3 Digits"
   ]
  },
  {
   "cell_type": "code",
   "execution_count": 252,
   "metadata": {},
   "outputs": [],
   "source": [
    "def digits_3(new_df, end_date):\n",
    "    test_df = new_df[new_df['OPR_DT'] == end_date]\n",
    "    test_df.drop(['OPR_DT'], axis=1, inplace=True)\n",
    "    y_test = test_df['MW']\n",
    "    X_test = test_df.drop('MW', axis=1)\n",
    "\n",
    "    train_df = new_df.drop(test_df.index)\n",
    "    train_df.drop(['OPR_DT'], axis=1, inplace=True)\n",
    "    y_train = train_df['MW']\n",
    "    X_train = train_df.drop('MW', axis=1)\n",
    "\n",
    "    forest = RandomForestRegressor(n_estimators=20, max_depth=10, criterion='absolute_error')\n",
    "    forest.fit(X_train, y_train)\n",
    "    y_pred = forest.predict(X_test)\n",
    "    return y_test, y_pred, mean_absolute_error(y_test, y_pred)\n",
    "\n",
    "dates_dig = hol['OPR_DT'].unique()\n",
    "dates_dig = dates_dig[119:151]"
   ]
  },
  {
   "cell_type": "code",
   "execution_count": 264,
   "metadata": {},
   "outputs": [
    {
     "name": "stdout",
     "output_type": "stream",
     "text": [
      "Mean digits for X = 12:\n",
      "\n",
      "1 Digit: 2663.676\n",
      "2 Digit: 1398.655\n",
      "3 Digit: 1216.489\n",
      "\n",
      "\n",
      "Mean digits for X = 24:\n",
      "\n",
      "1 Digit: 4624.715\n",
      "2 Digit: 2804.286\n",
      "3 Digit: 2335.972\n",
      "\n",
      "\n",
      "Mean digits for X = 36:\n",
      "\n",
      "1 Digit: 6326.463\n",
      "2 Digit: 3976.419\n",
      "3 Digit: 3598.992\n",
      "\n",
      "\n",
      "Mean digits for X = 48:\n",
      "\n",
      "1 Digit: 7859.846\n",
      "2 Digit: 5168.16\n",
      "3 Digit: 4656.701\n",
      "\n",
      "\n",
      "Mean digits for X = 60:\n",
      "\n",
      "1 Digit: 9248.575\n",
      "2 Digit: 6263.51\n",
      "3 Digit: 5651.168\n",
      "\n",
      "\n"
     ]
    }
   ],
   "source": [
    "# 7 minutes\n",
    "xxx = [12, 24, 36, 48, 60]\n",
    "\n",
    "for x in xxx:\n",
    "    dig_1, dig_2, dig_3 = [], [], []\n",
    "\n",
    "    for i in range(8, len(dates_dig)):\n",
    "        start = dates_dig[i-8]\n",
    "        end = dates_dig[i]\n",
    "\n",
    "        e = hol[hol['OPR_DT'] == end].sort_values('MW', ascending=False)\n",
    "        dig_1.append(e['MW'][:x].sum())\n",
    "\n",
    "        new_df = hol[(hol['OPR_DT'] >= start) & (hol['OPR_DT'] <= end)]\n",
    "        te, pr, ma = digits_3(new_df, end)\n",
    "\n",
    "        ind = np.argpartition(pr, -x)[-x:]\n",
    "        dig_2.append(np.array(te)[ind].sum())\n",
    "\n",
    "        d = dam[dam['OPR_DT'] == end].sort_values('MW', ascending=False)\n",
    "        hr = d.iloc[:int(x/12)]['OPR_HR']\n",
    "        lm = d.iloc[:int(x/12)]['LMP_TYPE']\n",
    "\n",
    "        third = []\n",
    "        for h, l in zip(hr, lm):\n",
    "            third.append(e[(e['OPR_HR'] == int(h)) & (e['LMP_TYPE'] == int(l))].MW.sum())\n",
    "\n",
    "        dig_3.append(np.sum(third))\n",
    "\n",
    "    digit_1 = np.mean(dig_1)\n",
    "    digit_2 = np.mean(dig_2)\n",
    "    digit_3 = np.mean(dig_3)\n",
    "\n",
    "    print('Mean digits for X = {}:\\n'.format(x))\n",
    "    print('1 Digit:', np.round(digit_1, 3))\n",
    "    print('2 Digit:', np.round(digit_2, 3))\n",
    "    print('3 Digit:', np.round(digit_3, 3))"
   ]
  },
  {
   "cell_type": "markdown",
   "metadata": {},
   "source": [
    "Second plot"
   ]
  },
  {
   "cell_type": "code",
   "execution_count": 280,
   "metadata": {},
   "outputs": [],
   "source": [
    "without_outliers = hol.drop(hol[hol['MW'] >= 200].index)\n",
    "without_outliers = without_outliers.drop(without_outliers[without_outliers['MW'] <= -50].index)"
   ]
  },
  {
   "cell_type": "code",
   "execution_count": 283,
   "metadata": {},
   "outputs": [
    {
     "name": "stdout",
     "output_type": "stream",
     "text": [
      "11.903475255545489\n",
      "11.891277397236626\n",
      "11.9342634047175\n",
      "11.864774646908497\n",
      "11.698719357249946\n",
      "11.510329896088635\n",
      "11.45576806228854\n",
      "11.53055745599706\n",
      "11.678611092597142\n",
      "11.788600226857355\n"
     ]
    }
   ],
   "source": [
    "best_list = []\n",
    "list_of_days_in_x = [2, 3, 4, 5, 6, 7, 8, 9, 10, 11, 12, 13]\n",
    "\n",
    "all_dates = without_outliers['OPR_DT'].unique()\n",
    "for days_in_x in list_of_days_in_x:\n",
    "    mae_find_best = []\n",
    "    for n in range(140):\n",
    "        start = all_dates[n]\n",
    "        end = all_dates[n + days_in_x]\n",
    "\n",
    "        new_df = without_outliers[(without_outliers['OPR_DT'] >= start) & (without_outliers['OPR_DT'] <= end)]\n",
    "        mae_find_best.append(train_test(new_df, end))\n",
    "    best_list.append(np.mean(mae_find_best))\n",
    "    print(best_list[-1])"
   ]
  },
  {
   "cell_type": "code",
   "execution_count": null,
   "metadata": {},
   "outputs": [],
   "source": [
    "# best_list = [11.903475255545489,\n",
    "# 11.891277397236626,\n",
    "# 11.9342634047175,\n",
    "# 11.864774646908497,\n",
    "# 11.698719357249946,\n",
    "# 11.510329896088635,\n",
    "# 11.45576806228854,\n",
    "# 11.53055745599706,\n",
    "# 11.678611092597142,\n",
    "# 11.788600226857355]"
   ]
  },
  {
   "cell_type": "markdown",
   "metadata": {},
   "source": [
    "### Experiment extended on the whole HOLLISTER "
   ]
  },
  {
   "cell_type": "code",
   "execution_count": null,
   "metadata": {},
   "outputs": [],
   "source": [
    "# for i in range(118):\n",
    "#     ds_temp = ds_o.iloc[i*12:(i+3)*12]\n",
    "#     tr, te = ds_temp[:24], ds_temp[24:]\n",
    "#     X_train = tr[['OPR_HR', 'OPR_INTERVAL']]\n",
    "#     y_train = tr['outlier']\n",
    "\n",
    "#     X_test = te[['OPR_HR', 'OPR_INTERVAL']]\n",
    "#     y_test = te['outlier']\n",
    "\n",
    "#     model.fit(X_train, y_train)\n",
    "#     y_pred = model.predict(X_test)"
   ]
  },
  {
   "cell_type": "code",
   "execution_count": null,
   "metadata": {},
   "outputs": [],
   "source": [
    "# Number of Outliers in each day\n",
    "#2022-03-19 - 2022-03-23\n",
    "# for i in dates_outliers:\n",
    "#     print(i, ' - ', (hol[hol.OPR_DT == i].MW > 200).sum())"
   ]
  },
  {
   "cell_type": "code",
   "execution_count": null,
   "metadata": {},
   "outputs": [],
   "source": [
    "# ds_for_damming = dam[(dam['OPR_DT'] >= hol['OPR_DT'].unique()[0]) & (dam['OPR_DT'] <= hol['OPR_DT'].unique()[-1])]   # all dates are as in HOL\n",
    "\n",
    "# dates = ['2022-02-03', '2022-02-04', '2022-02-05', '2022-02-06', '2022-02-07', '2022-02-08', '2022-02-09', \n",
    "# '2022-02-10', '2022-02-11', '2022-02-12', '2022-02-13', '2022-02-14', '2022-02-15', '2022-02-16', '2022-02-17']\n",
    "# pdList = []\n",
    "\n",
    "# for n in ds_for_damming['OPR_DT'].unique():\n",
    "#     for lmp in [0, 1, 2, 3]:\n",
    "#         pdList.append(add_dam(lmp, dates[-1], n, hol, ds_for_damming))\n",
    "# new_df = pd.concat(pdList)"
   ]
  },
  {
   "cell_type": "code",
   "execution_count": null,
   "metadata": {},
   "outputs": [],
   "source": [
    "# To check add_dam_new()\n",
    "# s = dam[dam['OPR_DT'] == '2022-06-17']\n",
    "# s[s['LMP_TYPE'] == 3]\n",
    "# s = hol[hol['OPR_DT'] == '2022-06-10']\n",
    "# s[s['LMP_TYPE'] == 0].head(2)"
   ]
  },
  {
   "cell_type": "code",
   "execution_count": null,
   "metadata": {},
   "outputs": [],
   "source": [
    "days_in_x = 7\n",
    "all_dates = hol['OPR_DT'].unique()\n",
    "mae_dam = []\n",
    "for n in range(140):\n",
    "    start = all_dates[n]\n",
    "    end = all_dates[n + days_in_x]\n",
    "    if ds_for_damming[ds_for_damming['OPR_DT'] == end].shape[0] == 96:\n",
    "        new_dates = pd.date_range(start,end,freq='d')\n",
    "        df_dam = add_dam_new(new_dates, new_dates[-1], hol, ds_for_damming)\n",
    "        mae_dam.append(train_test(df_dam, end))\n",
    "        print(mae_dam[-1])"
   ]
  },
  {
   "cell_type": "code",
   "execution_count": 122,
   "metadata": {},
   "outputs": [
    {
     "data": {
      "text/plain": [
       "(32, 4)"
      ]
     },
     "execution_count": 122,
     "metadata": {},
     "output_type": "execute_result"
    }
   ],
   "source": [
    "# why this shape is 32???\n",
    "# 2022-02-14 is 64, MUST BE 96\n",
    "# 2 дня в середине и 2 последних два месяца всегда с неправильным шейпом, почему?\n",
    "ds_for_damming[ds_for_damming['OPR_DT'] == '2022-02-15'].shape\n",
    "# for n in range(9, 140):\n",
    "#     print(all_dates[n], '-', ds_for_damming[ds_for_damming['OPR_DT'] == all_dates[n]].shape)"
   ]
  },
  {
   "cell_type": "code",
   "execution_count": null,
   "metadata": {},
   "outputs": [],
   "source": [
    "days_in_x = 7\n",
    "all_dates = hol['OPR_DT'].unique()\n",
    "mae_without_dam = []\n",
    "for n in range(140):\n",
    "    \n",
    "    start = all_dates[n]\n",
    "    end = all_dates[n + days_in_x]\n",
    "    if ds_for_damming[ds_for_damming['OPR_DT'] == end].shape[0] == 96:\n",
    "        new_df = hol[(hol['OPR_DT'] >= start) & (hol['OPR_DT'] <= end)]\n",
    "\n",
    "        mae_without_dam.append(train_test(new_df, end))\n",
    "        # print(mae_without_dam[-1])"
   ]
  },
  {
   "cell_type": "code",
   "execution_count": 88,
   "metadata": {},
   "outputs": [],
   "source": [
    "days_in_x = 4\n",
    "all_dates = hol['OPR_DT'].unique()\n",
    "mae_dam_4 = []\n",
    "for n in range(140):\n",
    "    start = all_dates[n]\n",
    "    end = all_dates[n + days_in_x]\n",
    "    if ds_for_damming[ds_for_damming['OPR_DT'] == end].shape[0] == 96:\n",
    "        new_dates = pd.date_range(start,end,freq='d')\n",
    "        df_dam = add_dam_new(new_dates, new_dates[-1], hol, ds_for_damming)\n",
    "        mae_dam_4.append(train_test(df_dam, end))"
   ]
  },
  {
   "cell_type": "code",
   "execution_count": 89,
   "metadata": {},
   "outputs": [],
   "source": [
    "days_in_x = 4\n",
    "all_dates = hol['OPR_DT'].unique()\n",
    "mae_without_dam_4 = []\n",
    "for n in range(140):\n",
    "    \n",
    "    start = all_dates[n]\n",
    "    end = all_dates[n + days_in_x]\n",
    "    if ds_for_damming[ds_for_damming['OPR_DT'] == end].shape[0] == 96:\n",
    "        new_df = hol[(hol['OPR_DT'] >= start) & (hol['OPR_DT'] <= end)]\n",
    "\n",
    "        mae_without_dam_4.append(train_test(new_df, end))"
   ]
  },
  {
   "cell_type": "code",
   "execution_count": 107,
   "metadata": {},
   "outputs": [
    {
     "data": {
      "image/png": "[encoded data removed]",
      "text/plain": [
       "<Figure size 432x288 with 1 Axes>"
      ]
     },
     "metadata": {
      "needs_background": "light"
     },
     "output_type": "display_data"
    }
   ],
   "source": [
    "xlab = range(len(mae_dam_4))\n",
    "plt.plot(xlab, mae_dam_4, label='dam')\n",
    "plt.plot(xlab, mae_without_dam_4, label='without_dam')\n",
    "plt.legend()\n",
    "plt.title('4 days in X_train')\n",
    "plt.ylabel('MAE')\n",
    "plt.xlabel('Day of year')\n",
    "plt.show()"
   ]
  },
  {
   "cell_type": "code",
   "execution_count": 108,
   "metadata": {},
   "outputs": [
    {
     "data": {
      "image/png": "[encoded data removed]",
      "text/plain": [
       "<Figure size 432x288 with 1 Axes>"
      ]
     },
     "metadata": {
      "needs_background": "light"
     },
     "output_type": "display_data"
    }
   ],
   "source": [
    "xlab = range(len(mae_dam))\n",
    "plt.plot(xlab, mae_dam, label='dam')\n",
    "plt.plot(xlab, mae_without_dam, label='without_dam')\n",
    "plt.legend()\n",
    "plt.title('7 days in X_train')\n",
    "plt.ylabel('MAE')\n",
    "plt.xlabel('Day of year')\n",
    "plt.show()"
   ]
  },
  {
   "cell_type": "code",
   "execution_count": 121,
   "metadata": {},
   "outputs": [
    {
     "name": "stdout",
     "output_type": "stream",
     "text": [
      "MAE on 120 cases:\n",
      "With DAM 7 days in X -  14.533463323453027\n",
      "WithOUT DAM 7 days in X -  14.591461047857736\n",
      "With DAM 4 days in X -  15.496514960274109\n",
      "WithOUT DAM 4 days in X -  15.450838810238116\n"
     ]
    }
   ],
   "source": [
    "print('MAE on 120 cases:')\n",
    "print('With DAM 7 days in X - ', np.mean(mae_dam))\n",
    "print('WithOUT DAM 7 days in X - ', np.mean(mae_without_dam))\n",
    "\n",
    "print('With DAM 4 days in X - ', np.mean(mae_dam_4))\n",
    "print('WithOUT DAM 4 days in X - ', np.mean(mae_without_dam_4))"
   ]
  },
  {
   "cell_type": "code",
   "execution_count": 110,
   "metadata": {},
   "outputs": [
    {
     "name": "stdout",
     "output_type": "stream",
     "text": [
      "2\n",
      "3\n",
      "4\n",
      "5\n",
      "6\n",
      "7\n",
      "8\n",
      "9\n",
      "10\n",
      "11\n",
      "12\n",
      "13\n"
     ]
    }
   ],
   "source": [
    "best_list = []\n",
    "list_of_days_in_x = [2, 3, 4, 5, 6, 7, 8, 9, 10, 11, 12, 13]\n",
    "\n",
    "all_dates = hol['OPR_DT'].unique()\n",
    "for days_in_x in list_of_days_in_x:\n",
    "    mae_find_best = []\n",
    "    for n in range(140):\n",
    "        start = all_dates[n]\n",
    "        end = all_dates[n + days_in_x]\n",
    "        if ds_for_damming[ds_for_damming['OPR_DT'] == end].shape[0] == 96:\n",
    "            new_df = hol[(hol['OPR_DT'] >= start) & (hol['OPR_DT'] <= end)]\n",
    "\n",
    "            mae_find_best.append(train_test(new_df, end))\n",
    "    best_list.append(np.mean(mae_find_best))\n",
    "    print(days_in_x)"
   ]
  },
  {
   "cell_type": "code",
   "execution_count": 6,
   "metadata": {},
   "outputs": [],
   "source": [
    "list_of_days_in_x = [2, 3, 4, 5, 6, 7, 8, 9, 10, 11, 12, 13]\n",
    "best_list = [16.017560036740626,\n",
    " 15.808288688413926,\n",
    " 15.463641365751329,\n",
    " 15.14688521919638,\n",
    " 14.904048221846416,\n",
    " 14.592532844131094,\n",
    " 14.517865767174092,\n",
    " 14.646850386708167,\n",
    " 14.83210172429097,\n",
    " 14.945354529503128,\n",
    " 14.99498187507174,\n",
    " 15.06610712352036]\n",
    "\n",
    "min_mae = []\n",
    "for i in range(1, len(best_list)+1):\n",
    "    min_mae.append(np.min((best_list[:i])))"
   ]
  },
  {
   "cell_type": "code",
   "execution_count": 16,
   "metadata": {},
   "outputs": [
    {
     "data": {
      "image/png": "[encoded data removed]",
      "text/plain": [
       "<Figure size 432x288 with 1 Axes>"
      ]
     },
     "metadata": {
      "needs_background": "light"
     },
     "output_type": "display_data"
    }
   ],
   "source": [
    "plt.plot(list_of_days_in_x, min_mae)\n",
    "plt.title('Finding the best number of days in X_train')\n",
    "plt.ylabel('MAE on 120 cases')\n",
    "plt.xlabel('Days in X_train')\n",
    "plt.show()"
   ]
  },
  {
   "cell_type": "code",
   "execution_count": null,
   "metadata": {},
   "outputs": [],
   "source": [
    "# ss = hol.groupby(hol.OPR_DT).mean().MW\n",
    "# plt.plot(all_dates[:140], ss[:140], label='Mean values from HOLLISTER')\n",
    "# plt.plot(all_dates[:140], mae_without_dam, label='MAE, 7 days in X_train')\n",
    "# plt.legend()\n",
    "# plt.show()"
   ]
  },
  {
   "cell_type": "code",
   "execution_count": 69,
   "metadata": {},
   "outputs": [
    {
     "data": {
      "image/png": "[encoded data removed]",
      "text/plain": [
       "<Figure size 432x288 with 1 Axes>"
      ]
     },
     "metadata": {
      "needs_background": "light"
     },
     "output_type": "display_data"
    }
   ],
   "source": [
    "xlab = range(1, len(dates))\n",
    "plt.plot(xlab, mae_without_dam, label='without_dam')\n",
    "plt.plot(xlab, mae, label='dam')\n",
    "plt.legend()\n",
    "plt.ylabel('MAE')\n",
    "plt.xlabel('Days in X_train')\n",
    "plt.show()"
   ]
  },
  {
   "cell_type": "markdown",
   "metadata": {},
   "source": [
    "вывести feature_importance"
   ]
  },
  {
   "cell_type": "code",
   "execution_count": null,
   "metadata": {},
   "outputs": [],
   "source": [
    "# from statsmodels.tsa.seasonal import seasonal_decompose\n",
    "# decompose_data = seasonal_decompose(hol, model=\"additive\")\n",
    "# decompose_data.plot();"
   ]
  },
  {
   "cell_type": "markdown",
   "metadata": {},
   "source": [
    "## Trash"
   ]
  },
  {
   "cell_type": "code",
   "execution_count": 8,
   "metadata": {},
   "outputs": [
    {
     "data": {
      "text/plain": [
       "3.6086489060329865"
      ]
     },
     "execution_count": 8,
     "metadata": {},
     "output_type": "execute_result"
    }
   ],
   "source": [
    "pdList = []\n",
    "\n",
    "dates = ['2022-02-03', '2022-02-04', '2022-02-05', '2022-02-06', '2022-02-07']#, '2022-02-08', '2022-02-09', '2022-02-10', '2022-02-11', '2022-02-12',\n",
    "# '2022-02-13', '2022-02-14', '2022-02-15', '2022-02-16', '2022-02-17']\n",
    "\n",
    "for n in dates:\n",
    "    for lmp in [0, 1, 2, 3]:\n",
    "        pdList.append(add_dam(lmp, dates[-1], n, hol, dam))\n",
    "new_df = pd.concat(pdList)\n",
    "train_test(new_df, dates)"
   ]
  },
  {
   "cell_type": "code",
   "execution_count": 9,
   "metadata": {},
   "outputs": [
    {
     "name": "stdout",
     "output_type": "stream",
     "text": [
      "Number of outliers > 200$ is\n",
      " 0\n"
     ]
    },
    {
     "data": {
      "image/png": "[encoded data removed]",
      "text/plain": [
       "<Figure size 720x432 with 1 Axes>"
      ]
     },
     "metadata": {
      "needs_background": "light"
     },
     "output_type": "display_data"
    }
   ],
   "source": [
    "print('Number of outliers > 200$ is\\n', (new_df.MW > 200).sum())\n",
    "plt.figure(figsize=(10, 6))\n",
    "plt.plot(new_df.MW);"
   ]
  },
  {
   "cell_type": "markdown",
   "metadata": {},
   "source": [
    "### Trash"
   ]
  },
  {
   "cell_type": "code",
   "execution_count": 219,
   "metadata": {},
   "outputs": [
    {
     "data": {
      "text/html": [
       "<div>\n",
       "<style scoped>\n",
       "    .dataframe tbody tr th:only-of-type {\n",
       "        vertical-align: middle;\n",
       "    }\n",
       "\n",
       "    .dataframe tbody tr th {\n",
       "        vertical-align: top;\n",
       "    }\n",
       "\n",
       "    .dataframe thead th {\n",
       "        text-align: right;\n",
       "    }\n",
       "</style>\n",
       "<table border=\"1\" class=\"dataframe\">\n",
       "  <thead>\n",
       "    <tr style=\"text-align: right;\">\n",
       "      <th></th>\n",
       "      <th>INTERVALSTARTTIME_GMT</th>\n",
       "      <th>INTERVALENDTIME_GMT</th>\n",
       "      <th>OPR_DT</th>\n",
       "      <th>OPR_HR</th>\n",
       "      <th>LMP_TYPE</th>\n",
       "      <th>MW</th>\n",
       "      <th>OPR_INTERVAL</th>\n",
       "      <th>GROUP</th>\n",
       "      <th>dam</th>\n",
       "    </tr>\n",
       "  </thead>\n",
       "  <tbody>\n",
       "    <tr>\n",
       "      <th>1248</th>\n",
       "      <td>2022-02-01T08:00:00-00:00</td>\n",
       "      <td>2022-02-01T08:05:00-00:00</td>\n",
       "      <td>2022-02-01</td>\n",
       "      <td>1</td>\n",
       "      <td>LMP</td>\n",
       "      <td>51.52587</td>\n",
       "      <td>1</td>\n",
       "      <td>8</td>\n",
       "      <td>50.41301</td>\n",
       "    </tr>\n",
       "    <tr>\n",
       "      <th>1249</th>\n",
       "      <td>2022-02-01T08:05:00-00:00</td>\n",
       "      <td>2022-02-01T08:10:00-00:00</td>\n",
       "      <td>2022-02-01</td>\n",
       "      <td>1</td>\n",
       "      <td>LMP</td>\n",
       "      <td>51.59934</td>\n",
       "      <td>2</td>\n",
       "      <td>8</td>\n",
       "      <td>50.41301</td>\n",
       "    </tr>\n",
       "    <tr>\n",
       "      <th>1250</th>\n",
       "      <td>2022-02-01T08:10:00-00:00</td>\n",
       "      <td>2022-02-01T08:15:00-00:00</td>\n",
       "      <td>2022-02-01</td>\n",
       "      <td>1</td>\n",
       "      <td>LMP</td>\n",
       "      <td>50.37979</td>\n",
       "      <td>3</td>\n",
       "      <td>8</td>\n",
       "      <td>50.41301</td>\n",
       "    </tr>\n",
       "    <tr>\n",
       "      <th>1251</th>\n",
       "      <td>2022-02-01T08:15:00-00:00</td>\n",
       "      <td>2022-02-01T08:20:00-00:00</td>\n",
       "      <td>2022-02-01</td>\n",
       "      <td>1</td>\n",
       "      <td>LMP</td>\n",
       "      <td>49.25534</td>\n",
       "      <td>4</td>\n",
       "      <td>8</td>\n",
       "      <td>50.41301</td>\n",
       "    </tr>\n",
       "    <tr>\n",
       "      <th>1252</th>\n",
       "      <td>2022-02-01T08:20:00-00:00</td>\n",
       "      <td>2022-02-01T08:25:00-00:00</td>\n",
       "      <td>2022-02-01</td>\n",
       "      <td>1</td>\n",
       "      <td>LMP</td>\n",
       "      <td>49.37044</td>\n",
       "      <td>5</td>\n",
       "      <td>8</td>\n",
       "      <td>50.41301</td>\n",
       "    </tr>\n",
       "    <tr>\n",
       "      <th>...</th>\n",
       "      <td>...</td>\n",
       "      <td>...</td>\n",
       "      <td>...</td>\n",
       "      <td>...</td>\n",
       "      <td>...</td>\n",
       "      <td>...</td>\n",
       "      <td>...</td>\n",
       "      <td>...</td>\n",
       "      <td>...</td>\n",
       "    </tr>\n",
       "    <tr>\n",
       "      <th>1531</th>\n",
       "      <td>2022-02-02T07:35:00-00:00</td>\n",
       "      <td>2022-02-02T07:40:00-00:00</td>\n",
       "      <td>2022-02-01</td>\n",
       "      <td>24</td>\n",
       "      <td>LMP</td>\n",
       "      <td>65.95402</td>\n",
       "      <td>8</td>\n",
       "      <td>8</td>\n",
       "      <td>52.80506</td>\n",
       "    </tr>\n",
       "    <tr>\n",
       "      <th>1532</th>\n",
       "      <td>2022-02-02T07:40:00-00:00</td>\n",
       "      <td>2022-02-02T07:45:00-00:00</td>\n",
       "      <td>2022-02-01</td>\n",
       "      <td>24</td>\n",
       "      <td>LMP</td>\n",
       "      <td>64.11099</td>\n",
       "      <td>9</td>\n",
       "      <td>8</td>\n",
       "      <td>52.80506</td>\n",
       "    </tr>\n",
       "    <tr>\n",
       "      <th>1533</th>\n",
       "      <td>2022-02-02T07:45:00-00:00</td>\n",
       "      <td>2022-02-02T07:50:00-00:00</td>\n",
       "      <td>2022-02-01</td>\n",
       "      <td>24</td>\n",
       "      <td>LMP</td>\n",
       "      <td>62.95589</td>\n",
       "      <td>10</td>\n",
       "      <td>8</td>\n",
       "      <td>52.80506</td>\n",
       "    </tr>\n",
       "    <tr>\n",
       "      <th>1534</th>\n",
       "      <td>2022-02-02T07:50:00-00:00</td>\n",
       "      <td>2022-02-02T07:55:00-00:00</td>\n",
       "      <td>2022-02-01</td>\n",
       "      <td>24</td>\n",
       "      <td>LMP</td>\n",
       "      <td>66.74740</td>\n",
       "      <td>11</td>\n",
       "      <td>8</td>\n",
       "      <td>52.80506</td>\n",
       "    </tr>\n",
       "    <tr>\n",
       "      <th>1535</th>\n",
       "      <td>2022-02-02T07:55:00-00:00</td>\n",
       "      <td>2022-02-02T08:00:00-00:00</td>\n",
       "      <td>2022-02-01</td>\n",
       "      <td>24</td>\n",
       "      <td>LMP</td>\n",
       "      <td>73.24869</td>\n",
       "      <td>12</td>\n",
       "      <td>8</td>\n",
       "      <td>52.80506</td>\n",
       "    </tr>\n",
       "  </tbody>\n",
       "</table>\n",
       "<p>288 rows × 9 columns</p>\n",
       "</div>"
      ],
      "text/plain": [
       "          INTERVALSTARTTIME_GMT        INTERVALENDTIME_GMT     OPR_DT  OPR_HR  \\\n",
       "1248  2022-02-01T08:00:00-00:00  2022-02-01T08:05:00-00:00 2022-02-01       1   \n",
       "1249  2022-02-01T08:05:00-00:00  2022-02-01T08:10:00-00:00 2022-02-01       1   \n",
       "1250  2022-02-01T08:10:00-00:00  2022-02-01T08:15:00-00:00 2022-02-01       1   \n",
       "1251  2022-02-01T08:15:00-00:00  2022-02-01T08:20:00-00:00 2022-02-01       1   \n",
       "1252  2022-02-01T08:20:00-00:00  2022-02-01T08:25:00-00:00 2022-02-01       1   \n",
       "...                         ...                        ...        ...     ...   \n",
       "1531  2022-02-02T07:35:00-00:00  2022-02-02T07:40:00-00:00 2022-02-01      24   \n",
       "1532  2022-02-02T07:40:00-00:00  2022-02-02T07:45:00-00:00 2022-02-01      24   \n",
       "1533  2022-02-02T07:45:00-00:00  2022-02-02T07:50:00-00:00 2022-02-01      24   \n",
       "1534  2022-02-02T07:50:00-00:00  2022-02-02T07:55:00-00:00 2022-02-01      24   \n",
       "1535  2022-02-02T07:55:00-00:00  2022-02-02T08:00:00-00:00 2022-02-01      24   \n",
       "\n",
       "     LMP_TYPE        MW  OPR_INTERVAL  GROUP       dam  \n",
       "1248      LMP  51.52587             1      8  50.41301  \n",
       "1249      LMP  51.59934             2      8  50.41301  \n",
       "1250      LMP  50.37979             3      8  50.41301  \n",
       "1251      LMP  49.25534             4      8  50.41301  \n",
       "1252      LMP  49.37044             5      8  50.41301  \n",
       "...       ...       ...           ...    ...       ...  \n",
       "1531      LMP  65.95402             8      8  52.80506  \n",
       "1532      LMP  64.11099             9      8  52.80506  \n",
       "1533      LMP  62.95589            10      8  52.80506  \n",
       "1534      LMP  66.74740            11      8  52.80506  \n",
       "1535      LMP  73.24869            12      8  52.80506  \n",
       "\n",
       "[288 rows x 9 columns]"
      ]
     },
     "execution_count": 219,
     "metadata": {},
     "output_type": "execute_result"
    }
   ],
   "source": [
    "exp = dam[dam['OPR_DT'] == '2022-02-01']  \n",
    "exp = exp[exp['LMP_TYPE'] == 'LMP']  #.sort_values('OPR_HR')\n",
    "ee = exp[['OPR_HR', 'MW']]\n",
    "\n",
    "sec = hol[hol['OPR_DT'] == '2022-02-01']\n",
    "sec = sec[sec['LMP_TYPE'] == 'LMP']\n",
    "lis = []\n",
    "\n",
    "for i in sec['OPR_HR']:\n",
    "    lis.append(ee[ee['OPR_HR'] == i]['MW'].values)\n",
    "sec['dam'] = np.hstack(lis)\n",
    "sec\n"
   ]
  },
  {
   "cell_type": "code",
   "execution_count": null,
   "metadata": {},
   "outputs": [],
   "source": [
    "for i in range(1, 69):\n",
    "    print('Group {}\\n'.format(i), hol[hol.GROUP == i].OPR_DT.unique())\n",
    "\n",
    "# for i in range(1, 86):\n",
    "#     print('Group {}\\n'.format(i), dam[dam.GROUP == i].OPR_DT.unique())"
   ]
  },
  {
   "cell_type": "code",
   "execution_count": 2,
   "metadata": {},
   "outputs": [],
   "source": [
    "df = pd.read_csv('20220715_20220729_PRC_INTVL_LMP_RTM_20220731_05_17_54_v3.csv')\n",
    "df.drop(df[df.LMP_TYPE == 'MGHG'].index, axis=0, inplace=True)\n",
    "\n",
    "trash = ['NODE_ID_XML', 'NODE_ID', 'NODE', 'MARKET_RUN_ID', 'PNODE_RESMRID', 'GRP_TYPE', 'POS']\n",
    "df.drop(trash, axis=1, inplace=True)\n",
    "df.drop('XML_DATA_ITEM', axis=1, inplace=True)                      # Because it's 100% correlated with LMP_TYPE\n",
    "\n",
    "date = ['INTERVALSTARTTIME_GMT', 'INTERVALENDTIME_GMT',\t'OPR_DT', 'GROUP']\n",
    "\n",
    "# date = ['INTERVALSTARTTIME_GMT', 'INTERVALENDTIME_GMT',\t'OPR_DT']   # Because OPR_HR and OPR_INTERVAL contain it.\n",
    "# df.drop(date, axis=1, inplace=True)\n",
    "\n",
    "# 07:00 - 08:00    OPR_HR == 1\n",
    "# 08:00 - 09:00    OPR_HR == 2\n",
    "# 15:00 - 16:00    OPR_HR == 9\n",
    "# 22:00 - 23:00    OPR_HR == 16\n",
    "\n",
    "# 07:00 - 07:05    OPR_INTERVAL == 1\n",
    "\n",
    "# df.XML_DATA_ITEM.unique() == ['LMP_CONG_PRC', 'LMP_ENE_PRC', 'LMP_GHG_PRC', 'LMP_LOSS_PRC', 'LMP_PRC']\n",
    "# df.LMP_TYPE.unique() == ['MCC', 'MCE', 'MGHG', 'MCL', 'LMP']"
   ]
  },
  {
   "cell_type": "code",
   "execution_count": 3,
   "metadata": {},
   "outputs": [
    {
     "data": {
      "text/html": [
       "<div>\n",
       "<style scoped>\n",
       "    .dataframe tbody tr th:only-of-type {\n",
       "        vertical-align: middle;\n",
       "    }\n",
       "\n",
       "    .dataframe tbody tr th {\n",
       "        vertical-align: top;\n",
       "    }\n",
       "\n",
       "    .dataframe thead th {\n",
       "        text-align: right;\n",
       "    }\n",
       "</style>\n",
       "<table border=\"1\" class=\"dataframe\">\n",
       "  <thead>\n",
       "    <tr style=\"text-align: right;\">\n",
       "      <th></th>\n",
       "      <th>INTERVALSTARTTIME_GMT</th>\n",
       "      <th>INTERVALENDTIME_GMT</th>\n",
       "      <th>OPR_DT</th>\n",
       "      <th>OPR_HR</th>\n",
       "      <th>VALUE</th>\n",
       "      <th>OPR_INTERVAL</th>\n",
       "      <th>GROUP</th>\n",
       "      <th>lmp_trans</th>\n",
       "    </tr>\n",
       "  </thead>\n",
       "  <tbody>\n",
       "    <tr>\n",
       "      <th>0</th>\n",
       "      <td>2022-07-15T15:00:00-00:00</td>\n",
       "      <td>2022-07-15T15:05:00-00:00</td>\n",
       "      <td>2022-07-15</td>\n",
       "      <td>9</td>\n",
       "      <td>20.05033</td>\n",
       "      <td>1</td>\n",
       "      <td>1</td>\n",
       "      <td>1</td>\n",
       "    </tr>\n",
       "    <tr>\n",
       "      <th>1</th>\n",
       "      <td>2022-07-15T15:05:00-00:00</td>\n",
       "      <td>2022-07-15T15:10:00-00:00</td>\n",
       "      <td>2022-07-15</td>\n",
       "      <td>9</td>\n",
       "      <td>25.44488</td>\n",
       "      <td>2</td>\n",
       "      <td>1</td>\n",
       "      <td>1</td>\n",
       "    </tr>\n",
       "    <tr>\n",
       "      <th>2</th>\n",
       "      <td>2022-07-15T15:10:00-00:00</td>\n",
       "      <td>2022-07-15T15:15:00-00:00</td>\n",
       "      <td>2022-07-15</td>\n",
       "      <td>9</td>\n",
       "      <td>27.20417</td>\n",
       "      <td>3</td>\n",
       "      <td>1</td>\n",
       "      <td>1</td>\n",
       "    </tr>\n",
       "    <tr>\n",
       "      <th>3</th>\n",
       "      <td>2022-07-15T15:15:00-00:00</td>\n",
       "      <td>2022-07-15T15:20:00-00:00</td>\n",
       "      <td>2022-07-15</td>\n",
       "      <td>9</td>\n",
       "      <td>19.84158</td>\n",
       "      <td>4</td>\n",
       "      <td>1</td>\n",
       "      <td>1</td>\n",
       "    </tr>\n",
       "    <tr>\n",
       "      <th>4</th>\n",
       "      <td>2022-07-15T15:20:00-00:00</td>\n",
       "      <td>2022-07-15T15:25:00-00:00</td>\n",
       "      <td>2022-07-15</td>\n",
       "      <td>9</td>\n",
       "      <td>19.88617</td>\n",
       "      <td>5</td>\n",
       "      <td>1</td>\n",
       "      <td>1</td>\n",
       "    </tr>\n",
       "    <tr>\n",
       "      <th>...</th>\n",
       "      <td>...</td>\n",
       "      <td>...</td>\n",
       "      <td>...</td>\n",
       "      <td>...</td>\n",
       "      <td>...</td>\n",
       "      <td>...</td>\n",
       "      <td>...</td>\n",
       "      <td>...</td>\n",
       "    </tr>\n",
       "    <tr>\n",
       "      <th>20635</th>\n",
       "      <td>2022-07-29T22:35:00-00:00</td>\n",
       "      <td>2022-07-29T22:40:00-00:00</td>\n",
       "      <td>2022-07-29</td>\n",
       "      <td>16</td>\n",
       "      <td>100.00000</td>\n",
       "      <td>8</td>\n",
       "      <td>75</td>\n",
       "      <td>0</td>\n",
       "    </tr>\n",
       "    <tr>\n",
       "      <th>20636</th>\n",
       "      <td>2022-07-29T22:40:00-00:00</td>\n",
       "      <td>2022-07-29T22:45:00-00:00</td>\n",
       "      <td>2022-07-29</td>\n",
       "      <td>16</td>\n",
       "      <td>104.37120</td>\n",
       "      <td>9</td>\n",
       "      <td>75</td>\n",
       "      <td>0</td>\n",
       "    </tr>\n",
       "    <tr>\n",
       "      <th>20637</th>\n",
       "      <td>2022-07-29T22:45:00-00:00</td>\n",
       "      <td>2022-07-29T22:50:00-00:00</td>\n",
       "      <td>2022-07-29</td>\n",
       "      <td>16</td>\n",
       "      <td>118.12000</td>\n",
       "      <td>10</td>\n",
       "      <td>75</td>\n",
       "      <td>0</td>\n",
       "    </tr>\n",
       "    <tr>\n",
       "      <th>20638</th>\n",
       "      <td>2022-07-29T22:50:00-00:00</td>\n",
       "      <td>2022-07-29T22:55:00-00:00</td>\n",
       "      <td>2022-07-29</td>\n",
       "      <td>16</td>\n",
       "      <td>121.00000</td>\n",
       "      <td>11</td>\n",
       "      <td>75</td>\n",
       "      <td>0</td>\n",
       "    </tr>\n",
       "    <tr>\n",
       "      <th>20639</th>\n",
       "      <td>2022-07-29T22:55:00-00:00</td>\n",
       "      <td>2022-07-29T23:00:00-00:00</td>\n",
       "      <td>2022-07-29</td>\n",
       "      <td>16</td>\n",
       "      <td>121.00000</td>\n",
       "      <td>12</td>\n",
       "      <td>75</td>\n",
       "      <td>0</td>\n",
       "    </tr>\n",
       "  </tbody>\n",
       "</table>\n",
       "<p>16512 rows × 8 columns</p>\n",
       "</div>"
      ],
      "text/plain": [
       "           INTERVALSTARTTIME_GMT        INTERVALENDTIME_GMT      OPR_DT  \\\n",
       "0      2022-07-15T15:00:00-00:00  2022-07-15T15:05:00-00:00  2022-07-15   \n",
       "1      2022-07-15T15:05:00-00:00  2022-07-15T15:10:00-00:00  2022-07-15   \n",
       "2      2022-07-15T15:10:00-00:00  2022-07-15T15:15:00-00:00  2022-07-15   \n",
       "3      2022-07-15T15:15:00-00:00  2022-07-15T15:20:00-00:00  2022-07-15   \n",
       "4      2022-07-15T15:20:00-00:00  2022-07-15T15:25:00-00:00  2022-07-15   \n",
       "...                          ...                        ...         ...   \n",
       "20635  2022-07-29T22:35:00-00:00  2022-07-29T22:40:00-00:00  2022-07-29   \n",
       "20636  2022-07-29T22:40:00-00:00  2022-07-29T22:45:00-00:00  2022-07-29   \n",
       "20637  2022-07-29T22:45:00-00:00  2022-07-29T22:50:00-00:00  2022-07-29   \n",
       "20638  2022-07-29T22:50:00-00:00  2022-07-29T22:55:00-00:00  2022-07-29   \n",
       "20639  2022-07-29T22:55:00-00:00  2022-07-29T23:00:00-00:00  2022-07-29   \n",
       "\n",
       "       OPR_HR      VALUE  OPR_INTERVAL  GROUP  lmp_trans  \n",
       "0           9   20.05033             1      1          1  \n",
       "1           9   25.44488             2      1          1  \n",
       "2           9   27.20417             3      1          1  \n",
       "3           9   19.84158             4      1          1  \n",
       "4           9   19.88617             5      1          1  \n",
       "...       ...        ...           ...    ...        ...  \n",
       "20635      16  100.00000             8     75          0  \n",
       "20636      16  104.37120             9     75          0  \n",
       "20637      16  118.12000            10     75          0  \n",
       "20638      16  121.00000            11     75          0  \n",
       "20639      16  121.00000            12     75          0  \n",
       "\n",
       "[16512 rows x 8 columns]"
      ]
     },
     "execution_count": 3,
     "metadata": {},
     "output_type": "execute_result"
    }
   ],
   "source": [
    "le = LabelEncoder()\n",
    "le.fit(['MCC', 'MCE', 'MCL', 'LMP'])   #  'MGHG' leads to VALUE == 0\n",
    "\n",
    "df['lmp_trans'] = le.transform(df.LMP_TYPE)\n",
    "df.drop('LMP_TYPE', axis=1, inplace=True)\n",
    "df"
   ]
  },
  {
   "cell_type": "markdown",
   "metadata": {},
   "source": [
    "Try models"
   ]
  },
  {
   "cell_type": "code",
   "execution_count": 4,
   "metadata": {},
   "outputs": [],
   "source": [
    "def days(d, n):\n",
    "    '''\n",
    "    Returns the appropriate number of days to form the train dataset in ahead() function.\n",
    "\n",
    "    d - number of days you want to include in X_train,\n",
    "    n - number of the group you want to start from. Should be in [6, 11, 16, 21, 26, 31, 36, 41].\n",
    "    '''\n",
    "    if d == 1:\n",
    "        return [n, n+1, n+3, n+4]                                       # First day\n",
    "\n",
    "    elif d == 2:\n",
    "        return [n, n+1, n+3, n+4,                                       # First day\n",
    "                n+5, n+6, n+8, n+9]                                     # Second day\n",
    "\n",
    "    elif d == 3:\n",
    "        return [n, n+1, n+3, n+4,                                       # First day\n",
    "                n+5, n+6, n+8, n+9,                                     # Second day\n",
    "                n+10, n+11, n+13, n+14]                                 # Third day\n",
    "\n",
    "    elif d == 4:\n",
    "        return [n, n+1, n+3, n+4,                                       # First day\n",
    "                n+5, n+6, n+8, n+9,                                     # Second day\n",
    "                n+10, n+11, n+13, n+14,                                 # Third day\n",
    "                n+15, n+16, n+18, n+19]                                 # Fourth day        \n",
    "\n",
    "    elif d == 5:\n",
    "        return [n, n+1, n+3, n+4,                                       # First day\n",
    "                n+5, n+6, n+8, n+9,                                     # Second day\n",
    "                n+10, n+11, n+13, n+14,                                 # Third day\n",
    "                n+15, n+16, n+18, n+19,                                 # Fourth day \n",
    "                n+20, n+21, n+23, n+24]                                 # Fifth day\n",
    "\n",
    "    elif d == 6:\n",
    "        return [n, n+1, n+3, n+4,                                       # First day\n",
    "                n+5, n+6, n+8, n+9,                                     # Second day\n",
    "                n+10, n+11, n+13, n+14,                                 # Third day\n",
    "                n+15, n+16, n+18, n+19,                                 # Fourth day \n",
    "                n+20, n+21, n+23, n+24,                                 # Fifth day\n",
    "                n+25, n+26, n+28, n+29]                                 # Sixth day    \n",
    "    \n",
    "    else: return 'Please enter d in [1:6], or extend the list manually, or ask me (Artem) to do it. I have not made it for d>6 yet'"
   ]
  },
  {
   "cell_type": "code",
   "execution_count": 5,
   "metadata": {},
   "outputs": [],
   "source": [
    "def ahead(n, d, df, date):\n",
    "    '''\n",
    "    Makes train and test datasets and returns MAE.\n",
    "\n",
    "    n - number of the group you want to start from. Should be in [6, 11, 16, 21, 26, 31, 36, 41],\n",
    "    d - number of days you want to include in X_train,\n",
    "    df - preprocessed dataset,\n",
    "    date - columns to be dropped.\n",
    "    '''\n",
    "    train_df = df.loc[df.GROUP.isin(days(d, n))]\n",
    "\n",
    "    train_df.drop(date, axis=1, inplace=True)\n",
    "    y_train = train_df.VALUE\n",
    "    X_train = train_df.drop('VALUE', axis=1)\n",
    "\n",
    "    n = n+5*d                                               \n",
    "    test_df = df.loc[df.GROUP.isin([n, n+1, n+3, n+4])]\n",
    "\n",
    "    test_df.drop(date, axis=1, inplace=True)\n",
    "    y_test = test_df.VALUE\n",
    "    X_test = test_df.drop('VALUE', axis=1)\n",
    "\n",
    "    forest = RandomForestRegressor(n_estimators=20, max_depth=10, criterion='absolute_error')\n",
    "    forest.fit(X_train, y_train)\n",
    "    y_pred = forest.predict(X_test)\n",
    "    return mean_absolute_error(y_test, y_pred)"
   ]
  },
  {
   "cell_type": "code",
   "execution_count": 6,
   "metadata": {},
   "outputs": [
    {
     "name": "stdout",
     "output_type": "stream",
     "text": [
      "X_train consists of 4 days. The X_train starts to be formed from group == i.\n",
      "MAE for each case: [9.365727257595488, 10.983961937282986, 8.571848083116318, 13.709818090060764, 9.343416546657986, 11.585021109157985, 10.23405539171007]\n",
      "Mean MAE = 10.541978345083084\n"
     ]
    }
   ],
   "source": [
    "nn = [6, 11, 16, 21, 26, 31, 36]\n",
    "res_4 = []\n",
    "for i in nn:\n",
    "    res_4.append(ahead(i, 4, df, date))\n",
    "\n",
    "print('X_train consists of 4 days. The X_train starts to be formed from group == i.\\nMAE for each case:', res_4)\n",
    "print('Mean MAE =', np.mean(res_4))"
   ]
  },
  {
   "cell_type": "code",
   "execution_count": 11,
   "metadata": {},
   "outputs": [
    {
     "name": "stdout",
     "output_type": "stream",
     "text": [
      "X_train consists of 6 days. The X_train starts to be formed from group == i.\n",
      "MAE for each case: [7.356427351128472, 13.037939217881943, 10.148298914496527, 10.340709250868056, 9.639224867838541, 33.41474239301216]\n",
      "Mean MAE = 13.989556999204282\n",
      "Mean MAE without the possible outlier = 10.104519920442709\n"
     ]
    }
   ],
   "source": [
    "nn = [6, 11, 16, 21, 26, 31]\n",
    "res_6 = []\n",
    "for i in nn:\n",
    "    res_6.append(ahead(i, 6, df, date))\n",
    "\n",
    "print('X_train consists of 6 days. The X_train starts to be formed from group == i.\\nMAE for each case:', res_6)\n",
    "print('Mean MAE =', np.mean(res_6))\n",
    "print('Mean MAE without the possible outlier =', np.mean(res_6[:-1]))\n",
    "# Something is wrong when we have 6 days in X and start from group=31. I think it's an outlier, but should be checked properly on a broader dataset."
   ]
  },
  {
   "cell_type": "code",
   "execution_count": 12,
   "metadata": {},
   "outputs": [
    {
     "data": {
      "text/plain": [
       "7.47863863780382"
      ]
     },
     "execution_count": 12,
     "metadata": {},
     "output_type": "execute_result"
    }
   ],
   "source": [
    "# Here you may play with the number of days included in X. As in cells above.\n",
    "d = 6\n",
    "ahead(6, d, df, date)"
   ]
  },
  {
   "cell_type": "markdown",
   "metadata": {},
   "source": [
    "### Trash. Old cells."
   ]
  },
  {
   "cell_type": "markdown",
   "metadata": {},
   "source": [
    "XGBRegressor"
   ]
  },
  {
   "cell_type": "code",
   "execution_count": 118,
   "metadata": {},
   "outputs": [
    {
     "data": {
      "text/plain": [
       "14.61164321677803"
      ]
     },
     "execution_count": 118,
     "metadata": {},
     "output_type": "execute_result"
    }
   ],
   "source": [
    "# 4 days\n",
    "xgbr = xgb.XGBRegressor(n_jobs=-1, random_state=1)\n",
    "xgbr.fit(X_train, y_train)\n",
    "y_pred = xgbr.predict(X_test)\n",
    "mean_absolute_error(y_test, y_pred)"
   ]
  },
  {
   "cell_type": "markdown",
   "metadata": {},
   "source": [
    "DecisionTreeRegressor"
   ]
  },
  {
   "cell_type": "code",
   "execution_count": 113,
   "metadata": {},
   "outputs": [
    {
     "data": {
      "text/plain": [
       "11.426156106770833"
      ]
     },
     "execution_count": 113,
     "metadata": {},
     "output_type": "execute_result"
    }
   ],
   "source": [
    "tree = DecisionTreeRegressor()\n",
    "tree.fit(X_train, y_train)\n",
    "y_pred = tree.predict(X_test)\n",
    "mean_absolute_error(y_test, y_pred)"
   ]
  },
  {
   "cell_type": "markdown",
   "metadata": {},
   "source": [
    "RandomForestRegressor"
   ]
  },
  {
   "cell_type": "code",
   "execution_count": 109,
   "metadata": {},
   "outputs": [
    {
     "data": {
      "text/plain": [
       "7.367309338975695"
      ]
     },
     "execution_count": 109,
     "metadata": {},
     "output_type": "execute_result"
    }
   ],
   "source": [
    "forest = RandomForestRegressor(n_estimators=20, max_depth=10, criterion='absolute_error')\n",
    "forest.fit(X_train, y_train)\n",
    "y_pred = forest.predict(X_test)\n",
    "mean_absolute_error(y_test, y_pred)"
   ]
  },
  {
   "cell_type": "markdown",
   "metadata": {},
   "source": [
    "### TRASH (function separately)"
   ]
  },
  {
   "cell_type": "code",
   "execution_count": null,
   "metadata": {},
   "outputs": [],
   "source": [
    "n= 6\n",
    "train_df = df.loc[df.GROUP.isin([n, n+1, n+3, n+4,\n",
    "n+5, n+6, n+8, n+9,\n",
    "n+10, n+11, n+13, n+14,\n",
    "n+15, n+16, n+18, n+19\n",
    "])]\n"
   ]
  },
  {
   "cell_type": "code",
   "execution_count": null,
   "metadata": {},
   "outputs": [
    {
     "data": {
      "text/html": [
       "<div>\n",
       "<style scoped>\n",
       "    .dataframe tbody tr th:only-of-type {\n",
       "        vertical-align: middle;\n",
       "    }\n",
       "\n",
       "    .dataframe tbody tr th {\n",
       "        vertical-align: top;\n",
       "    }\n",
       "\n",
       "    .dataframe thead th {\n",
       "        text-align: right;\n",
       "    }\n",
       "</style>\n",
       "<table border=\"1\" class=\"dataframe\">\n",
       "  <thead>\n",
       "    <tr style=\"text-align: right;\">\n",
       "      <th></th>\n",
       "      <th>OPR_HR</th>\n",
       "      <th>OPR_INTERVAL</th>\n",
       "      <th>lmp_trans</th>\n",
       "    </tr>\n",
       "  </thead>\n",
       "  <tbody>\n",
       "    <tr>\n",
       "      <th>960</th>\n",
       "      <td>1</td>\n",
       "      <td>1</td>\n",
       "      <td>1</td>\n",
       "    </tr>\n",
       "    <tr>\n",
       "      <th>961</th>\n",
       "      <td>1</td>\n",
       "      <td>2</td>\n",
       "      <td>1</td>\n",
       "    </tr>\n",
       "    <tr>\n",
       "      <th>962</th>\n",
       "      <td>1</td>\n",
       "      <td>3</td>\n",
       "      <td>1</td>\n",
       "    </tr>\n",
       "    <tr>\n",
       "      <th>963</th>\n",
       "      <td>1</td>\n",
       "      <td>4</td>\n",
       "      <td>1</td>\n",
       "    </tr>\n",
       "    <tr>\n",
       "      <th>964</th>\n",
       "      <td>1</td>\n",
       "      <td>5</td>\n",
       "      <td>1</td>\n",
       "    </tr>\n",
       "    <tr>\n",
       "      <th>...</th>\n",
       "      <td>...</td>\n",
       "      <td>...</td>\n",
       "      <td>...</td>\n",
       "    </tr>\n",
       "    <tr>\n",
       "      <th>6715</th>\n",
       "      <td>24</td>\n",
       "      <td>8</td>\n",
       "      <td>0</td>\n",
       "    </tr>\n",
       "    <tr>\n",
       "      <th>6716</th>\n",
       "      <td>24</td>\n",
       "      <td>9</td>\n",
       "      <td>0</td>\n",
       "    </tr>\n",
       "    <tr>\n",
       "      <th>6717</th>\n",
       "      <td>24</td>\n",
       "      <td>10</td>\n",
       "      <td>0</td>\n",
       "    </tr>\n",
       "    <tr>\n",
       "      <th>6718</th>\n",
       "      <td>24</td>\n",
       "      <td>11</td>\n",
       "      <td>0</td>\n",
       "    </tr>\n",
       "    <tr>\n",
       "      <th>6719</th>\n",
       "      <td>24</td>\n",
       "      <td>12</td>\n",
       "      <td>0</td>\n",
       "    </tr>\n",
       "  </tbody>\n",
       "</table>\n",
       "<p>4608 rows × 3 columns</p>\n",
       "</div>"
      ],
      "text/plain": [
       "      OPR_HR  OPR_INTERVAL  lmp_trans\n",
       "960        1             1          1\n",
       "961        1             2          1\n",
       "962        1             3          1\n",
       "963        1             4          1\n",
       "964        1             5          1\n",
       "...      ...           ...        ...\n",
       "6715      24             8          0\n",
       "6716      24             9          0\n",
       "6717      24            10          0\n",
       "6718      24            11          0\n",
       "6719      24            12          0\n",
       "\n",
       "[4608 rows x 3 columns]"
      ]
     },
     "metadata": {},
     "output_type": "display_data"
    }
   ],
   "source": [
    "train_df.drop(date, axis=1, inplace=True)\n",
    "y_train = train_df.VALUE\n",
    "\n",
    "X_train = train_df.drop('VALUE', axis=1)\n",
    "X_train"
   ]
  },
  {
   "cell_type": "code",
   "execution_count": null,
   "metadata": {},
   "outputs": [
    {
     "data": {
      "text/html": [
       "<div>\n",
       "<style scoped>\n",
       "    .dataframe tbody tr th:only-of-type {\n",
       "        vertical-align: middle;\n",
       "    }\n",
       "\n",
       "    .dataframe tbody tr th {\n",
       "        vertical-align: top;\n",
       "    }\n",
       "\n",
       "    .dataframe thead th {\n",
       "        text-align: right;\n",
       "    }\n",
       "</style>\n",
       "<table border=\"1\" class=\"dataframe\">\n",
       "  <thead>\n",
       "    <tr style=\"text-align: right;\">\n",
       "      <th></th>\n",
       "      <th>INTERVALSTARTTIME_GMT</th>\n",
       "      <th>INTERVALENDTIME_GMT</th>\n",
       "      <th>OPR_DT</th>\n",
       "      <th>OPR_HR</th>\n",
       "      <th>VALUE</th>\n",
       "      <th>OPR_INTERVAL</th>\n",
       "      <th>GROUP</th>\n",
       "      <th>lmp_trans</th>\n",
       "    </tr>\n",
       "  </thead>\n",
       "  <tbody>\n",
       "    <tr>\n",
       "      <th>6720</th>\n",
       "      <td>2022-07-20T07:00:00-00:00</td>\n",
       "      <td>2022-07-20T07:05:00-00:00</td>\n",
       "      <td>2022-07-20</td>\n",
       "      <td>1</td>\n",
       "      <td>28.24952</td>\n",
       "      <td>1</td>\n",
       "      <td>26</td>\n",
       "      <td>1</td>\n",
       "    </tr>\n",
       "    <tr>\n",
       "      <th>6721</th>\n",
       "      <td>2022-07-20T07:05:00-00:00</td>\n",
       "      <td>2022-07-20T07:10:00-00:00</td>\n",
       "      <td>2022-07-20</td>\n",
       "      <td>1</td>\n",
       "      <td>28.25028</td>\n",
       "      <td>2</td>\n",
       "      <td>26</td>\n",
       "      <td>1</td>\n",
       "    </tr>\n",
       "    <tr>\n",
       "      <th>6722</th>\n",
       "      <td>2022-07-20T07:10:00-00:00</td>\n",
       "      <td>2022-07-20T07:15:00-00:00</td>\n",
       "      <td>2022-07-20</td>\n",
       "      <td>1</td>\n",
       "      <td>28.55085</td>\n",
       "      <td>3</td>\n",
       "      <td>26</td>\n",
       "      <td>1</td>\n",
       "    </tr>\n",
       "    <tr>\n",
       "      <th>6723</th>\n",
       "      <td>2022-07-20T07:15:00-00:00</td>\n",
       "      <td>2022-07-20T07:20:00-00:00</td>\n",
       "      <td>2022-07-20</td>\n",
       "      <td>1</td>\n",
       "      <td>29.18123</td>\n",
       "      <td>4</td>\n",
       "      <td>26</td>\n",
       "      <td>1</td>\n",
       "    </tr>\n",
       "    <tr>\n",
       "      <th>6724</th>\n",
       "      <td>2022-07-20T07:20:00-00:00</td>\n",
       "      <td>2022-07-20T07:25:00-00:00</td>\n",
       "      <td>2022-07-20</td>\n",
       "      <td>1</td>\n",
       "      <td>30.27590</td>\n",
       "      <td>5</td>\n",
       "      <td>26</td>\n",
       "      <td>1</td>\n",
       "    </tr>\n",
       "    <tr>\n",
       "      <th>...</th>\n",
       "      <td>...</td>\n",
       "      <td>...</td>\n",
       "      <td>...</td>\n",
       "      <td>...</td>\n",
       "      <td>...</td>\n",
       "      <td>...</td>\n",
       "      <td>...</td>\n",
       "      <td>...</td>\n",
       "    </tr>\n",
       "    <tr>\n",
       "      <th>8155</th>\n",
       "      <td>2022-07-21T06:35:00-00:00</td>\n",
       "      <td>2022-07-21T06:40:00-00:00</td>\n",
       "      <td>2022-07-20</td>\n",
       "      <td>24</td>\n",
       "      <td>93.32284</td>\n",
       "      <td>8</td>\n",
       "      <td>30</td>\n",
       "      <td>0</td>\n",
       "    </tr>\n",
       "    <tr>\n",
       "      <th>8156</th>\n",
       "      <td>2022-07-21T06:40:00-00:00</td>\n",
       "      <td>2022-07-21T06:45:00-00:00</td>\n",
       "      <td>2022-07-20</td>\n",
       "      <td>24</td>\n",
       "      <td>93.23081</td>\n",
       "      <td>9</td>\n",
       "      <td>30</td>\n",
       "      <td>0</td>\n",
       "    </tr>\n",
       "    <tr>\n",
       "      <th>8157</th>\n",
       "      <td>2022-07-21T06:45:00-00:00</td>\n",
       "      <td>2022-07-21T06:50:00-00:00</td>\n",
       "      <td>2022-07-20</td>\n",
       "      <td>24</td>\n",
       "      <td>93.50460</td>\n",
       "      <td>10</td>\n",
       "      <td>30</td>\n",
       "      <td>0</td>\n",
       "    </tr>\n",
       "    <tr>\n",
       "      <th>8158</th>\n",
       "      <td>2022-07-21T06:50:00-00:00</td>\n",
       "      <td>2022-07-21T06:55:00-00:00</td>\n",
       "      <td>2022-07-20</td>\n",
       "      <td>24</td>\n",
       "      <td>96.36335</td>\n",
       "      <td>11</td>\n",
       "      <td>30</td>\n",
       "      <td>0</td>\n",
       "    </tr>\n",
       "    <tr>\n",
       "      <th>8159</th>\n",
       "      <td>2022-07-21T06:55:00-00:00</td>\n",
       "      <td>2022-07-21T07:00:00-00:00</td>\n",
       "      <td>2022-07-20</td>\n",
       "      <td>24</td>\n",
       "      <td>92.99537</td>\n",
       "      <td>12</td>\n",
       "      <td>30</td>\n",
       "      <td>0</td>\n",
       "    </tr>\n",
       "  </tbody>\n",
       "</table>\n",
       "<p>1152 rows × 8 columns</p>\n",
       "</div>"
      ],
      "text/plain": [
       "          INTERVALSTARTTIME_GMT        INTERVALENDTIME_GMT      OPR_DT  \\\n",
       "6720  2022-07-20T07:00:00-00:00  2022-07-20T07:05:00-00:00  2022-07-20   \n",
       "6721  2022-07-20T07:05:00-00:00  2022-07-20T07:10:00-00:00  2022-07-20   \n",
       "6722  2022-07-20T07:10:00-00:00  2022-07-20T07:15:00-00:00  2022-07-20   \n",
       "6723  2022-07-20T07:15:00-00:00  2022-07-20T07:20:00-00:00  2022-07-20   \n",
       "6724  2022-07-20T07:20:00-00:00  2022-07-20T07:25:00-00:00  2022-07-20   \n",
       "...                         ...                        ...         ...   \n",
       "8155  2022-07-21T06:35:00-00:00  2022-07-21T06:40:00-00:00  2022-07-20   \n",
       "8156  2022-07-21T06:40:00-00:00  2022-07-21T06:45:00-00:00  2022-07-20   \n",
       "8157  2022-07-21T06:45:00-00:00  2022-07-21T06:50:00-00:00  2022-07-20   \n",
       "8158  2022-07-21T06:50:00-00:00  2022-07-21T06:55:00-00:00  2022-07-20   \n",
       "8159  2022-07-21T06:55:00-00:00  2022-07-21T07:00:00-00:00  2022-07-20   \n",
       "\n",
       "      OPR_HR     VALUE  OPR_INTERVAL  GROUP  lmp_trans  \n",
       "6720       1  28.24952             1     26          1  \n",
       "6721       1  28.25028             2     26          1  \n",
       "6722       1  28.55085             3     26          1  \n",
       "6723       1  29.18123             4     26          1  \n",
       "6724       1  30.27590             5     26          1  \n",
       "...      ...       ...           ...    ...        ...  \n",
       "8155      24  93.32284             8     30          0  \n",
       "8156      24  93.23081             9     30          0  \n",
       "8157      24  93.50460            10     30          0  \n",
       "8158      24  96.36335            11     30          0  \n",
       "8159      24  92.99537            12     30          0  \n",
       "\n",
       "[1152 rows x 8 columns]"
      ]
     },
     "metadata": {},
     "output_type": "display_data"
    }
   ],
   "source": [
    "n = 26\n",
    "test_df = df.loc[(df.GROUP == n) | (df.GROUP == n+1) | (df.GROUP == n+3) | (df.GROUP == n+4)]\n",
    "test_df"
   ]
  },
  {
   "cell_type": "code",
   "execution_count": null,
   "metadata": {},
   "outputs": [
    {
     "data": {
      "text/html": [
       "<div>\n",
       "<style scoped>\n",
       "    .dataframe tbody tr th:only-of-type {\n",
       "        vertical-align: middle;\n",
       "    }\n",
       "\n",
       "    .dataframe tbody tr th {\n",
       "        vertical-align: top;\n",
       "    }\n",
       "\n",
       "    .dataframe thead th {\n",
       "        text-align: right;\n",
       "    }\n",
       "</style>\n",
       "<table border=\"1\" class=\"dataframe\">\n",
       "  <thead>\n",
       "    <tr style=\"text-align: right;\">\n",
       "      <th></th>\n",
       "      <th>OPR_HR</th>\n",
       "      <th>OPR_INTERVAL</th>\n",
       "      <th>lmp_trans</th>\n",
       "    </tr>\n",
       "  </thead>\n",
       "  <tbody>\n",
       "    <tr>\n",
       "      <th>6720</th>\n",
       "      <td>1</td>\n",
       "      <td>1</td>\n",
       "      <td>1</td>\n",
       "    </tr>\n",
       "    <tr>\n",
       "      <th>6721</th>\n",
       "      <td>1</td>\n",
       "      <td>2</td>\n",
       "      <td>1</td>\n",
       "    </tr>\n",
       "    <tr>\n",
       "      <th>6722</th>\n",
       "      <td>1</td>\n",
       "      <td>3</td>\n",
       "      <td>1</td>\n",
       "    </tr>\n",
       "    <tr>\n",
       "      <th>6723</th>\n",
       "      <td>1</td>\n",
       "      <td>4</td>\n",
       "      <td>1</td>\n",
       "    </tr>\n",
       "    <tr>\n",
       "      <th>6724</th>\n",
       "      <td>1</td>\n",
       "      <td>5</td>\n",
       "      <td>1</td>\n",
       "    </tr>\n",
       "    <tr>\n",
       "      <th>...</th>\n",
       "      <td>...</td>\n",
       "      <td>...</td>\n",
       "      <td>...</td>\n",
       "    </tr>\n",
       "    <tr>\n",
       "      <th>8155</th>\n",
       "      <td>24</td>\n",
       "      <td>8</td>\n",
       "      <td>0</td>\n",
       "    </tr>\n",
       "    <tr>\n",
       "      <th>8156</th>\n",
       "      <td>24</td>\n",
       "      <td>9</td>\n",
       "      <td>0</td>\n",
       "    </tr>\n",
       "    <tr>\n",
       "      <th>8157</th>\n",
       "      <td>24</td>\n",
       "      <td>10</td>\n",
       "      <td>0</td>\n",
       "    </tr>\n",
       "    <tr>\n",
       "      <th>8158</th>\n",
       "      <td>24</td>\n",
       "      <td>11</td>\n",
       "      <td>0</td>\n",
       "    </tr>\n",
       "    <tr>\n",
       "      <th>8159</th>\n",
       "      <td>24</td>\n",
       "      <td>12</td>\n",
       "      <td>0</td>\n",
       "    </tr>\n",
       "  </tbody>\n",
       "</table>\n",
       "<p>1152 rows × 3 columns</p>\n",
       "</div>"
      ],
      "text/plain": [
       "      OPR_HR  OPR_INTERVAL  lmp_trans\n",
       "6720       1             1          1\n",
       "6721       1             2          1\n",
       "6722       1             3          1\n",
       "6723       1             4          1\n",
       "6724       1             5          1\n",
       "...      ...           ...        ...\n",
       "8155      24             8          0\n",
       "8156      24             9          0\n",
       "8157      24            10          0\n",
       "8158      24            11          0\n",
       "8159      24            12          0\n",
       "\n",
       "[1152 rows x 3 columns]"
      ]
     },
     "metadata": {},
     "output_type": "display_data"
    }
   ],
   "source": [
    "test_df.drop(date, axis=1, inplace=True)\n",
    "y_test = test_df.VALUE\n",
    "\n",
    "X_test = test_df.drop('VALUE', axis=1)\n",
    "X_test"
   ]
  },
  {
   "cell_type": "code",
   "execution_count": null,
   "metadata": {},
   "outputs": [
    {
     "data": {
      "text/plain": [
       "9.171129801432292"
      ]
     },
     "metadata": {},
     "output_type": "display_data"
    }
   ],
   "source": [
    "forest = RandomForestRegressor(n_estimators=20, max_depth=10, criterion='absolute_error')\n",
    "forest.fit(X_train, y_train)\n",
    "y_pred = forest.predict(X_test)\n",
    "mean_absolute_error(y_test, y_pred)"
   ]
  },
  {
   "cell_type": "code",
   "execution_count": null,
   "metadata": {},
   "outputs": [],
   "source": []
  }
 ],
 "metadata": {
  "kernelspec": {
   "display_name": "Python 3.10.5 ('electric': conda)",
   "language": "python",
   "name": "python3"
  },
  "language_info": {
   "codemirror_mode": {
    "name": "ipython",
    "version": 3
   },
   "file_extension": ".py",
   "mimetype": "text/x-python",
   "name": "python",
   "nbconvert_exporter": "python",
   "pygments_lexer": "ipython3",
   "version": "3.10.5"
  },
  "orig_nbformat": 4,
  "vscode": {
   "interpreter": {
    "hash": "a6af347cd8ef3fdb274dd4fb88c208b7fe570bd8448b7435b840e5bbf82a5ca0"
   }
  }
 },
 "nbformat": 4,
 "nbformat_minor": 2
}
